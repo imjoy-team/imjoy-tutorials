{
  "cells": [
    {
      "cell_type": "markdown",
      "metadata": {},
      "source": [
        "# Interactive Annotation and Training\n",
        "\n",
        "This notebook demonstrate how to use the BioEngine to do interactive annotation and training for segmenting cells."
      ]
    },
    {
      "cell_type": "code",
      "execution_count": null,
      "metadata": {
        "trusted": true
      },
      "outputs": [],
      "source": [
        "import micropip\n",
        "await micropip.install([\"kaibu-utils\", \"pyotritonclient>=0.1.7\"])"
      ]
    },
    {
      "cell_type": "code",
      "execution_count": null,
      "metadata": {
        "trusted": true
      },
      "outputs": [],
      "source": [
        "import io\n",
        "from PIL import Image\n",
        "import matplotlib.pyplot as plt\n",
        "import numpy as np\n",
        "from skimage.transform import resize\n",
        "import pickle\n",
        "import imageio\n",
        "import asyncio\n",
        "import os\n",
        "from pyotritonclient import SequenceExcutor, execute\n",
        "from kaibu_utils import features_to_mask, mask_to_features, fetch_image\n",
        "\n",
        "\n",
        "def display_image(image, mask):\n",
        "    # display the output\n",
        "    fig, (ax1, ax2) = plt.subplots(1, 2, figsize=(8, 4))\n",
        "    ax1.imshow(image)\n",
        "    ax1.set_title('input image')\n",
        "    ax2.imshow(mask)\n",
        "    ax2.set_title('predicted mask')\n",
        "    plt.show()\n",
        "\n",
        "async def cellpose_segment(image, diameter=100):\n",
        "    results = await execute([image.transpose(2, 0, 1), {'diameter': diameter}],\n",
        "                server_url='https://ai.imjoy.io/triton',\n",
        "                model_name='cellpose-python',\n",
        "                decode_bytes=True)\n",
        "    mask = results['mask'][0].copy()\n",
        "    return mask\n",
        "\n",
        "def display_image(image, mask):\n",
        "    # display the output\n",
        "    fig, (ax1, ax2) = plt.subplots(1, 2, figsize=(8, 4))\n",
        "    ax1.imshow(image)\n",
        "    ax1.set_title('input image')\n",
        "    ax2.imshow(mask)\n",
        "    ax2.set_title('predicted mask')\n",
        "    plt.show()\n",
        "\n",
        "async def train_once(model_id, image, labels, steps=16, model_token=None, resume=True, pretrained_model=\"cyto\", channels=None, diameter=100):\n",
        "    \"\"\"\n",
        "    Train a cellpose model through the BioEngine\n",
        "    # set pretrained_model to None if you want to train from scratch\n",
        "    # set model_token to a string if you want to protect the model\n",
        "    # from overwriting by other users\n",
        "    \"\"\"\n",
        "    seq = SequenceExcutor(\n",
        "        server_url=\"https://ai.imjoy.io/triton\",\n",
        "        model_name=\"cellpose-train\",\n",
        "        decode_json=True,\n",
        "        sequence_id=model_id,\n",
        "    )\n",
        "    if not channels:\n",
        "        channels = [1, 2]\n",
        "    if labels.ndim == 2:\n",
        "        labels = labels[:, :, None]\n",
        "    inputs = [\n",
        "        image.astype(\"float32\"),\n",
        "        labels.astype(\"uint16\"),\n",
        "        {\n",
        "            \"steps\": steps,\n",
        "            \"pretrained_model\": pretrained_model,\n",
        "            \"resume\": resume,\n",
        "            \"model_token\": model_token,\n",
        "            \"channels\": channels,\n",
        "            \"diam_mean\": 30,\n",
        "        },\n",
        "    ]\n",
        "    result = await seq.step(inputs, select_outputs=[\"info\"])\n",
        "    loss = result[\"info\"][0][\"loss\"]\n",
        "    print(f\"loss={loss}\")\n",
        "    await seq.end()\n",
        "    return loss\n",
        "\n",
        "async def predict(model_id, image, channels=None, diameter=100, reload=False):\n",
        "    \"\"\"Make predition with the specified cellpose model\"\"\"\n",
        "    # Start the prediction\n",
        "    seq = SequenceExcutor(\n",
        "        server_url=\"https://ai.imjoy.io/triton\",\n",
        "        model_name=\"cellpose-predict\",\n",
        "        decode_json=True,\n",
        "        sequence_id=model_id,\n",
        "    )\n",
        "    if not channels:\n",
        "        channels = [1, 2]\n",
        "\n",
        "    inputs = [image.astype(\"float32\"), {\"channels\": channels, \"diameter\": diameter, \"reload\": reload}]\n",
        "    results = await seq.step(inputs, select_outputs=[\"mask\"])\n",
        "    # await seq.end()\n",
        "    return results['mask'][:, :, 0]\n",
        "\n",
        "async def download_model(model_id, samples, model_token = None):\n",
        "    \"\"\"\n",
        "    Download the trained model by its id.\n",
        "    \"\"\"\n",
        "    seq = SequenceExcutor(\n",
        "        server_url=\"https://ai.imjoy.io/triton\",\n",
        "        model_name=\"cellpose-train\",\n",
        "        decode_json=True,\n",
        "        sequence_id=model_id,\n",
        "    )\n",
        "    valid_image, valid_labels = samples[0]\n",
        "    result = await seq.end(\n",
        "        [\n",
        "            valid_image.astype(\"float32\"),\n",
        "            valid_labels.astype(\"uint16\"),\n",
        "            {\n",
        "                \"resume\": True,\n",
        "                \"model_token\": model_token,\n",
        "                \"channels\": [1, 2],\n",
        "                \"diameter\": 100.0,\n",
        "                \"model_format\": \"bioimageio\",\n",
        "            },\n",
        "        ],\n",
        "        decode_json=True,\n",
        "        select_outputs=[\"info\", \"model\"],\n",
        "    )\n",
        "    # Save the weights\n",
        "    model_package = result[\"model\"][0]\n",
        "    filename = result[\"info\"][0][\"model_files\"][0]\n",
        "    with open(os.path.join(os.path.expanduser('~'), filename), \"wb\") as fil:\n",
        "        fil.write(model_package)\n",
        "    print(f\"Model package saved to {filename}\")\n"
      ]
    },
    {
      "cell_type": "markdown",
      "metadata": {},
      "source": [
        "## Fetch an example image"
      ]
    },
    {
      "cell_type": "code",
      "execution_count": null,
      "metadata": {
        "trusted": true
      },
      "outputs": [],
      "source": [
        "image = await fetch_image(\"https://images.proteinatlas.org/61448/1319_C10_2_blue_red_green.jpg\")\n",
        "image = resize(image, (image.shape[0] // 4, image.shape[1] // 4), anti_aliasing=True).astype('float32')\n",
        "print(image.shape)\n",
        "plt.imshow(image.astype('uint8'))\n",
        "plt.show()"
      ]
    },
    {
      "cell_type": "markdown",
      "metadata": {},
      "source": [
        "# Create a mask image with the standard cellpose model"
      ]
    },
    {
      "cell_type": "code",
      "execution_count": null,
      "metadata": {
        "trusted": true
      },
      "outputs": [],
      "source": [
        "mask = await cellpose_segment(image, diameter=100)\n",
        "display_image(image.astype('uint8'), mask)"
      ]
    },
    {
      "cell_type": "markdown",
      "metadata": {},
      "source": [
        "## Test the function for training"
      ]
    },
    {
      "cell_type": "code",
      "execution_count": null,
      "metadata": {
        "trusted": true
      },
      "outputs": [],
      "source": [
        "await train_once(106, image, mask)"
      ]
    },
    {
      "cell_type": "markdown",
      "metadata": {},
      "source": [
        "## Test the function for prediction"
      ]
    },
    {
      "cell_type": "code",
      "execution_count": null,
      "metadata": {
        "trusted": true
      },
      "outputs": [],
      "source": [
        "mask = await predict(106, image, reload=True) # Here we set reload=True to read the latest model weights trained in the previous cell\n",
        "display_image(image.astype('uint8'), mask)"
      ]
    },
    {
      "cell_type": "code",
      "execution_count": null,
      "metadata": {
        "trusted": true
      },
      "outputs": [],
      "source": [
        "from imjoy import api\n",
        "\n",
        "model_id = 106\n",
        "\n",
        "class ImJoyPlugin():\n",
        "    async def setup(self):\n",
        "        viewer = await api.createWindow(src=\"https://kaibu.org/#/app\")\n",
        "        \n",
        "        # Add an image layer and annotation layer\n",
        "        await viewer.view_image(image.astype('uint8'))\n",
        "        # annotation_layer = await viewer.add_shapes([], {\"name\": \"annotation\"})\n",
        "        self.annotation_layer = await viewer.add_shapes(\n",
        "            [],\n",
        "            shape_type=\"polygon\",\n",
        "            edge_color=\"red\",\n",
        "            name=\"prediction\",\n",
        "        )\n",
        "        async def do_prediction():\n",
        "            mask = await predict(model_id, image, reload=True)\n",
        "            # await viewer.view_image(mask, name=\"mask\")\n",
        "            polygons = mask_to_features(mask)\n",
        "            self.annotation_layer = await viewer.add_shapes(\n",
        "                polygons,\n",
        "                shape_type=\"polygon\",\n",
        "                edge_color=\"red\",\n",
        "                name=\"prediction\",\n",
        "            )\n",
        "\n",
        "        async def do_training():\n",
        "            features = await self.annotation_layer.get_features()\n",
        "            mask = features_to_mask(features, image.shape[:2])\n",
        "            loss = await train_once(model_id, image, mask)\n",
        "            await api.showMessage(f\"Loss: {loss}\")\n",
        "\n",
        "        await viewer.add_widget(\n",
        "        {\n",
        "            \"_rintf\": True,\n",
        "            \"name\": \"Control\",\n",
        "            \"type\": \"control\",\n",
        "            \"elements\": [\n",
        "                {\n",
        "                    \"type\": \"button\",\n",
        "                    \"label\": \"Make Prediction\",\n",
        "                    \"callback\": do_prediction,\n",
        "                },\n",
        "                {\n",
        "                    \"type\": \"button\",\n",
        "                    \"label\": \"Do Training\",\n",
        "                    \"callback\": do_training,\n",
        "                },\n",
        "            ],\n",
        "        })\n",
        "\n",
        "api.export(ImJoyPlugin())"
      ]
    }
  ],
  "metadata": {
    "kernelspec": {
      "display_name": "Pyolite",
      "language": "python",
      "name": "python"
    },
    "language_info": {
      "codemirror_mode": {
        "name": "python",
        "version": 3
      },
      "file_extension": ".py",
      "mimetype": "text/x-python",
      "name": "python",
      "nbconvert_exporter": "python",
      "pygments_lexer": "ipython3",
      "version": "3.8"
    },
    "orig_nbformat": 4
  },
  "nbformat": 4,
  "nbformat_minor": 4
}
