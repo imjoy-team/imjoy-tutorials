{
  "cells": [
    {
      "cell_type": "markdown",
      "metadata": {},
      "source": [
        "# Training models with BioEngine"
      ]
    },
    {
      "cell_type": "code",
      "execution_count": null,
      "metadata": {
        "trusted": true
      },
      "outputs": [],
      "source": [
        "import micropip\n",
        "await micropip.install('pyotritonclient')\n",
        "\n",
        "import io\n",
        "import asyncio\n",
        "import os\n",
        "from pyotritonclient import SequenceExcutor, execute\n",
        "import numpy as np\n",
        "import pickle\n",
        "import imageio\n",
        "from js import fetch\n",
        "\n",
        "async def download_data(url):\n",
        "    response = await fetch(url)\n",
        "    bytes = await response.arrayBuffer()\n",
        "    bytes = bytes.to_py()\n",
        "    buffer = io.BytesIO(bytes)\n",
        "    return pickle.load(buffer)\n",
        "\n",
        "test_samples = await download_data(\"https://raw.githubusercontent.com/imjoy-team/imjoy-tutorials/master/2-bioengine/test_samples_4.pkl\")\n",
        "train_samples = await download_data(\"https://raw.githubusercontent.com/imjoy-team/imjoy-tutorials/master/2-bioengine/train_samples_4.pkl\")\n",
        "print(\"Dataset downloaded\", len(train_samples), len(test_samples))\n",
        "\n",
        "(image, labels, info) = train_samples[0]"
      ]
    },
    {
      "cell_type": "markdown",
      "metadata": {},
      "source": [
        "## Train a cellpose model"
      ]
    },
    {
      "cell_type": "code",
      "execution_count": null,
      "metadata": {},
      "outputs": [],
      "source": [
        "\n",
        "async def train(model_id=102, epochs=1, model_token = None, pretrained_model = \"cyto\"):\n",
        "    \"\"\"\n",
        "    Train a model through the BioEngine\n",
        "    # set pretrained_model to None if you want to train from scratch\n",
        "    # set model_token to a string if you want to protect the model\n",
        "    # from overwriting by other users\n",
        "    \"\"\"\n",
        "    seq = SequenceExcutor(\n",
        "        server_url=\"https://ai.imjoy.io/triton\",\n",
        "        model_name=\"cellpose-train\",\n",
        "        decode_json=True,\n",
        "        sequence_id=model_id,\n",
        "    )\n",
        "    for epoch in range(epochs):\n",
        "        losses = []\n",
        "        for (image, labels, info) in train_samples:\n",
        "            inputs = [\n",
        "                image.astype(\"float32\"),\n",
        "                labels.astype(\"uint16\"),\n",
        "                {\n",
        "                    \"steps\": 16,\n",
        "                    \"pretrained_model\": pretrained_model,\n",
        "                    \"resume\": True,\n",
        "                    \"model_token\": model_token,\n",
        "                    \"channels\": [1, 2],\n",
        "                    \"diam_mean\": 30,\n",
        "                },\n",
        "            ]\n",
        "            result = await seq.step(inputs, select_outputs=[\"info\"])\n",
        "            losses.append(result[\"info\"][0][\"loss\"])\n",
        "        avg_loss = np.array(losses).mean()\n",
        "        print(f\"Epoch {epoch}  loss={avg_loss}\")\n",
        "\n",
        "    valid_image = test_samples[0][0].astype(\"float32\")\n",
        "    valid_labels = np.zeros_like(labels).astype(\"uint16\")\n",
        "    result = await seq.end(\n",
        "        [\n",
        "            valid_image,\n",
        "            valid_labels,\n",
        "            {\n",
        "                \"resume\": True,\n",
        "                \"model_token\": model_token,\n",
        "                \"channels\": [1, 2],\n",
        "                \"diameter\": 100.0,\n",
        "                \"model_format\": \"bioimageio\",\n",
        "            },\n",
        "        ],\n",
        "        decode_json=True,\n",
        "        select_outputs=[\"model\", \"info\"],\n",
        "    )\n",
        "    # Save the weights\n",
        "    model_package = result[\"model\"][0]\n",
        "    filename = result[\"info\"][0][\"model_files\"][0]\n",
        "    with open(filename, \"wb\") as fil:\n",
        "        fil.write(model_package)\n",
        "    print(f\"Model package saved to {filename}\")\n",
        "\n",
        "await train()"
      ]
    },
    {
      "cell_type": "markdown",
      "metadata": {},
      "source": [
        "# Use the trained model for prediction"
      ]
    },
    {
      "cell_type": "code",
      "execution_count": null,
      "metadata": {},
      "outputs": [],
      "source": [
        "async def predict():\n",
        "    # Start the prediction\n",
        "    seq = SequenceExcutor(\n",
        "        server_url=\"https://ai.imjoy.io/triton\",\n",
        "        model_name=\"cellpose-predict\",\n",
        "        decode_json=True,\n",
        "        sequence_id=model_id,\n",
        "    )\n",
        "    for i, sample in enumerate(test_samples):\n",
        "        inputs = [sample[0].astype(\"float32\"), {\"channels\": [1, 2], \"diameter\": 100}]\n",
        "        results = await seq.step(inputs, select_outputs=[\"mask\"])\n",
        "        imageio.imwrite(f\"test_result_{i}.png\", results[\"mask\"].astype(\"uint8\"))\n",
        "        print(results[\"mask\"].shape, results[\"mask\"].mean())\n",
        "\n",
        "    await seq.end()\n",
        "\n",
        "await predict()"
      ]
    }
  ],
  "metadata": {
    "kernelspec": {
      "display_name": "Pyolite",
      "language": "python",
      "name": "python"
    },
    "language_info": {
      "codemirror_mode": {
        "name": "python",
        "version": 3
      },
      "file_extension": ".py",
      "mimetype": "text/x-python",
      "name": "python",
      "nbconvert_exporter": "python",
      "pygments_lexer": "ipython3",
      "version": "3.8"
    },
    "orig_nbformat": 4
  },
  "nbformat": 4,
  "nbformat_minor": 4
}
