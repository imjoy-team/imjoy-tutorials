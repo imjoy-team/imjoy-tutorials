{
  "cells": [
    {
      "cell_type": "markdown",
      "metadata": {},
      "source": [
        "# Hands on tutorial for ImJoy"
      ]
    },
    {
      "cell_type": "markdown",
      "metadata": {},
      "source": [
        "## Your first ImJoy plugin"
      ]
    },
    {
      "cell_type": "code",
      "execution_count": 30,
      "metadata": {
        "trusted": true
      },
      "outputs": [
        {
          "data": {
            "application/javascript": "window.connectPlugin && window.connectPlugin(\"ee5c74c5-6d9c-43f9-8a24-f2a221613372\")",
            "text/plain": [
              "<IPython.core.display.Javascript object>"
            ]
          },
          "metadata": {},
          "output_type": "display_data"
        },
        {
          "data": {
            "text/html": [
              "<div id=\"59561a08-e05b-4290-ba70-b1d080a1827b\"></div>"
            ],
            "text/plain": [
              "<IPython.core.display.HTML object>"
            ]
          },
          "metadata": {},
          "output_type": "display_data"
        },
        {
          "data": {
            "text/plain": [
              "<_GatheringFuture pending>"
            ]
          },
          "execution_count": 30,
          "metadata": {},
          "output_type": "execute_result"
        }
      ],
      "source": [
        "from imjoy import api\n",
        "\n",
        "class ImJoyPlugin():\n",
        "    async def setup(self):\n",
        "        pass\n",
        "\n",
        "    async def run(self, ctx):\n",
        "        pokemon = await api.prompt(\"What is your favorite Pokémon?\", \"Pikachu\")\n",
        "        await api.showMessage(\"Your have chose \" + pokemon + \" as your Pokémon.\")\n",
        "\n",
        "api.export(ImJoyPlugin())"
      ]
    },
    {
      "cell_type": "markdown",
      "metadata": {},
      "source": [
        "## Visualize an Image using Kaibu\n",
        "\n",
        "Kaibu is an ImJoy plugin made for visualizing and anotating images.\n",
        "\n",
        "Kaibu can be used independently (https://kaibu.org) or through its ImJoy applicaiton interface (API)\n",
        "\n",
        "Full documentation including interactive examples can be found at: https://kaibu.org/docs/\n",
        "\n",
        "The following examples shows how to load an image from the human protein atlas (\"https://images.proteinatlas.org/61448/1319_C10_2_blue_red_green.jpg\")\n"
      ]
    },
    {
      "cell_type": "code",
      "execution_count": 31,
      "metadata": {
        "trusted": true
      },
      "outputs": [
        {
          "data": {
            "application/javascript": "window.connectPlugin && window.connectPlugin(\"ee5c74c5-6d9c-43f9-8a24-f2a221613372\")",
            "text/plain": [
              "<IPython.core.display.Javascript object>"
            ]
          },
          "metadata": {},
          "output_type": "display_data"
        },
        {
          "data": {
            "text/html": [
              "<div id=\"bf6748cf-3659-4554-af91-a4e0af75e2d0\"></div>"
            ],
            "text/plain": [
              "<IPython.core.display.HTML object>"
            ]
          },
          "metadata": {},
          "output_type": "display_data"
        },
        {
          "data": {
            "text/plain": [
              "<_GatheringFuture pending>"
            ]
          },
          "execution_count": 31,
          "metadata": {},
          "output_type": "execute_result"
        }
      ],
      "source": [
        "from imjoy import api\n",
        "\n",
        "class ImJoyPlugin():\n",
        "    async def setup(self):\n",
        "        pass\n",
        "\n",
        "    async def run(self, ctx):\n",
        "        viewer = await api.createWindow(src=\"https://kaibu.org/#/app\")\n",
        "        await viewer.view_image(\"https://images.proteinatlas.org/61448/1319_C10_2_blue_red_green.jpg\", name=\"example image\")\n",
        "\n",
        "api.export(ImJoyPlugin())"
      ]
    },
    {
      "cell_type": "markdown",
      "metadata": {},
      "source": [
        "## Use other ImJoy plugins for N-dimensional image visualization\n",
        "\n",
        "You can also use other image visualization plugins, for example: \n",
        "\n",
        "## [itk-vtk-viewer](https://kitware.github.io/itk-vtk-viewer/docs/imjoy.html)\n",
        "\n",
        "ITK/VTK Viewer is an open-source web application for medical and scientific image, mesh, and point set visualization.\n",
        "By Matt McCormick et al. https://zenodo.org/record/6516123\n",
        "```python\n",
        "import numpy as np\n",
        "\n",
        "image_array = np.random.randint(0, 255, [10,10,10], dtype='uint8')\n",
        "viewer = await api.createWindow(\n",
        "    src=\"https://oeway.github.io/itk-vtk-viewer/\",\n",
        "    fullscreen=True\n",
        ")\n",
        "await viewer.setImage(image_array)\n",
        "```\n",
        "\n",
        "## [vizarr](https://github.com/hms-dbmi/vizarr)\n",
        "\n",
        "A minimal, purely client-side program for viewing Zarr-based images with Viv & ImJoy.\n",
        "By Trevor Manz et al., see recent publication: https://www.nature.com/articles/s41592-022-01482-7\n",
        "\n",
        "```python\n",
        "viewer = await api.createWindow(src='https://hms-dbmi.github.io/vizarr')\n",
        "await viewer.add_image({ \"source\": 'https://uk1s3.embassy.ebi.ac.uk/idr/zarr/v0.1/6001240.zarr' })\n",
        "```\n",
        "\n",
        "More public NGFF/Zarr images can be found here: https://www.openmicroscopy.org/2020/11/04/zarr-data.html\n",
        "\n"
      ]
    },
    {
      "cell_type": "markdown",
      "metadata": {},
      "source": [
        "## Create your own plugin using itk-vtk-viewer\n",
        "\n",
        "Please use the code snippet above to create a plugin using `itk-vtk-viewer` (similar to the Kaibu plugin)."
      ]
    },
    {
      "cell_type": "code",
      "execution_count": null,
      "metadata": {},
      "outputs": [],
      "source": [
        "from imjoy import api\n",
        "\n",
        "class ImJoyPlugin():\n",
        "    async def setup(self):\n",
        "        pass\n",
        "\n",
        "    async def run(self, ctx):\n",
        "        # your code here\n",
        "\n",
        "\n",
        "api.export(ImJoyPlugin())"
      ]
    },
    {
      "cell_type": "markdown",
      "metadata": {},
      "source": [
        "## Visualize an image from your computer\n",
        "\n",
        "Kaibu can also display images in numpy array in Python, therefore you can use the Python module called `imageio` (https://imageio.readthedocs.io/en/stable/) to load a wide range of image formats (including tiff) and display it in Kaibu.\n",
        "\n",
        "\n",
        "ImJoy provides its own file manager which stores files in the browser, the file mamager is called \"elFinder\" (https://jupyter.imjoy.io/elFinder). To allow reading files locally, you need to:\n",
        " * First \"upload\" your local file to elFinder (Note: Your data won't go to any remote servers but stay inside the browser locally)\n",
        " * Then read the file in Python via a dedicated function called `open_elfinder()` (equvalent to `open` in Python).\n",
        "\n",
        "See the example below."
      ]
    },
    {
      "cell_type": "code",
      "execution_count": 32,
      "metadata": {
        "trusted": true
      },
      "outputs": [],
      "source": [
        "# We need to first install imageio module\n",
        "import micropip\n",
        "await micropip.install([\"imageio\"])"
      ]
    },
    {
      "cell_type": "code",
      "execution_count": 33,
      "metadata": {
        "trusted": true
      },
      "outputs": [
        {
          "data": {
            "application/javascript": "window.connectPlugin && window.connectPlugin(\"ee5c74c5-6d9c-43f9-8a24-f2a221613372\")",
            "text/plain": [
              "<IPython.core.display.Javascript object>"
            ]
          },
          "metadata": {},
          "output_type": "display_data"
        },
        {
          "data": {
            "text/html": [
              "<div id=\"cae2ccf3-8ec1-4c41-ac1c-8d8b3b1f07fb\"></div>"
            ],
            "text/plain": [
              "<IPython.core.display.HTML object>"
            ]
          },
          "metadata": {},
          "output_type": "display_data"
        },
        {
          "data": {
            "text/plain": [
              "<_GatheringFuture pending>"
            ]
          },
          "execution_count": 33,
          "metadata": {},
          "output_type": "execute_result"
        }
      ],
      "source": [
        "from imjoy import api\n",
        "import imageio\n",
        "from imjoy_rpc.utils import open_elfinder\n",
        "\n",
        "class ImJoyPlugin():\n",
        "    async def setup(self):\n",
        "        pass\n",
        "\n",
        "    async def run(self, ctx):\n",
        "        viewer = await api.createWindow(src=\"https://kaibu.org/#/app\")\n",
        "\n",
        "        async def form_submit_callback(fields):\n",
        "            image_path = fields[\"image file\"]\n",
        "            image_file = open_elfinder(image_path, \"rb\")\n",
        "            img = imageio.imread(image_file) \n",
        "            await viewer.view_image(img)\n",
        "        \n",
        "        async def select_file_callback():\n",
        "            # await api.alert(\"select button clicked\")\n",
        "            # return True\n",
        "            fm = await api.showDialog(src=\"https://jupyter.imjoy.io/elFinder/\", name=\"Select a File\")\n",
        "            selections = await fm.getSelections()\n",
        "            return selections[0]['path']\n",
        "            \n",
        "        await viewer.add_widget({\n",
        "            \"_rintf\": True,\n",
        "            \"name\": \"My Form\",\n",
        "            \"type\": \"form\",\n",
        "            \"form_submit_callback\": form_submit_callback,\n",
        "            \"fields\": [\n",
        "                {\n",
        "                    \"html\": \"<p><strong class='has-text-info'>Image Visualization Demo</strong><br>Please select an image file (or download one from <a href='https://images.proteinatlas.org/61448/1319_C10_2_blue_red_green.jpg' target='_blank'>here</a>)</p>\"\n",
        "                },\n",
        "                {\n",
        "                    \"type\": \"button\",\n",
        "                    \"label\": \"image file\",\n",
        "                    \"callback\": select_file_callback\n",
        "                },\n",
        "                # {\n",
        "                #     \"type\": \"number\",\n",
        "                #     \"label\": \"cell size\",\n",
        "                #     \"value\": 10,\n",
        "                #     \"isRequired\": False\n",
        "                # },\n",
        "            ],\n",
        "        })\n",
        "api.export(ImJoyPlugin())"
      ]
    },
    {
      "cell_type": "markdown",
      "metadata": {},
      "source": [
        "## Create cell annotations\n",
        "\n",
        "Kaibu allows also annotate images with a set of different tools, for example, you can use it to create polygon annotations for cells, e.g. for training a deep learning model for cell segmentation.\n",
        "\n",
        "In the following example, we use the function `viewer.add_shapes` to create an vector annotation layer in Kaibu, and then use `annotation_layer.get_features()` to obtain the polygons (in GeoJSON format) annotated by the user.\n",
        "\n",
        "By using a utility module named `kaibu-utils` to convert GeoJSON annotations into mask images (a.k.a. label image, which is a common format for image segmentation)."
      ]
    },
    {
      "cell_type": "code",
      "execution_count": 19,
      "metadata": {
        "trusted": true
      },
      "outputs": [],
      "source": [
        "import micropip\n",
        "await micropip.install([\"kaibu-utils\"])"
      ]
    },
    {
      "cell_type": "code",
      "execution_count": 26,
      "metadata": {
        "trusted": true
      },
      "outputs": [
        {
          "data": {
            "application/javascript": "window.connectPlugin && window.connectPlugin(\"ee5c74c5-6d9c-43f9-8a24-f2a221613372\")",
            "text/plain": [
              "<IPython.core.display.Javascript object>"
            ]
          },
          "metadata": {},
          "output_type": "display_data"
        },
        {
          "data": {
            "text/html": [
              "<div id=\"098971d9-7551-483b-be3a-5ddfc8cdf69a\"></div>"
            ],
            "text/plain": [
              "<IPython.core.display.HTML object>"
            ]
          },
          "metadata": {},
          "output_type": "display_data"
        },
        {
          "data": {
            "text/plain": [
              "<_GatheringFuture pending>"
            ]
          },
          "execution_count": 26,
          "metadata": {},
          "output_type": "execute_result"
        }
      ],
      "source": [
        "from imjoy import api\n",
        "import imageio\n",
        "from imjoy_rpc.utils import open_elfinder\n",
        "from kaibu_utils import features_to_mask\n",
        "\n",
        "image_masks = []\n",
        "\n",
        "class ImJoyPlugin():\n",
        "    async def setup(self):\n",
        "        pass\n",
        "\n",
        "    async def run(self, ctx):\n",
        "        viewer = await api.createWindow(src=\"https://kaibu.org/#/app\")\n",
        "\n",
        "        async def form_submit_callback(fields):\n",
        "            # image_path = fields[\"image file\"]\n",
        "            await api.alert(\"Done!\")\n",
        "        \n",
        "        async def select_file_callback():\n",
        "            fm = await api.showDialog(src=\"https://jupyter.imjoy.io/elFinder/\", name=\"Select a File\")\n",
        "            selections = await fm.getSelections()\n",
        "            image_path = selections[0]['path']\n",
        "            image_file = open_elfinder(image_path, \"rb\")\n",
        "            self.img = imageio.imread(image_file) \n",
        "            await viewer.view_image(self.img, name=\"Image\")\n",
        "            self.annotation_layer = await viewer.add_shapes([], name=\"Annotation\")\n",
        "            return image_path\n",
        "        \n",
        "        async def crate_mask_callback():\n",
        "            features = await self.annotation_layer.get_features()\n",
        "            mask = features_to_mask(features, self.img.shape[:2])\n",
        "            await viewer.view_image(mask, name=\"Mask\")\n",
        "            image_masks.append({\"mask\": mask, \"image\": self.img})\n",
        "\n",
        "        await viewer.add_widget({\n",
        "            \"_rintf\": True,\n",
        "            \"name\": \"My Form\",\n",
        "            \"type\": \"form\",\n",
        "            \"form_submit_callback\": form_submit_callback,\n",
        "            \"fields\": [\n",
        "                {\n",
        "                    \"html\": \"<p><strong class='has-text-info'>Image Visualization Demo</strong><br>Please select an image file</p>\"\n",
        "                },\n",
        "                {\n",
        "                    \"type\": \"button\",\n",
        "                    \"label\": \"image file\",\n",
        "                    \"callback\": select_file_callback\n",
        "                },\n",
        "                {\n",
        "                    \"type\": \"button\",\n",
        "                    \"label\": \"create mask\",\n",
        "                    \"callback\": crate_mask_callback,\n",
        "                    \"isRequired\": False\n",
        "                },\n",
        "                # {\n",
        "                #     \"type\": \"number\",\n",
        "                #     \"label\": \"cell size\",\n",
        "                #     \"value\": 10,\n",
        "                #     \"isRequired\": False\n",
        "                # },\n",
        "            ],\n",
        "        })\n",
        "api.export(ImJoyPlugin())"
      ]
    },
    {
      "cell_type": "markdown",
      "metadata": {},
      "source": [
        "## Inspect the image masks"
      ]
    },
    {
      "cell_type": "code",
      "execution_count": null,
      "metadata": {
        "trusted": true
      },
      "outputs": [],
      "source": [
        "image_masks"
      ]
    },
    {
      "cell_type": "markdown",
      "metadata": {},
      "source": [
        "## Publish and share your ImJoy plugins\n",
        " * Goto https://imjoy.io/lite, click `ImJoy Fiddle`\n",
        " * Create an empty web-python plugin under `File`\n",
        " * Replace the script with your own Python code\n",
        " * Add `requirements` (the ones installed with `micropip`, for example: `\"kaibu-utils\"`)\n",
        " * As a complete example, you can find an full ImJoy plugin code here: https://github.com/imjoy-team/imjoy-tutorials/blob/master/1-plugin-development/2-itk-vtk-viewer.imjoy.html\n",
        " * Now you can click run to test the plugin\n",
        " * Copy the the plugin code to save it at Github or Gist\n",
        " * Construct an URL for sharing: `https://imjoy.io/lite?plugin=`+ RAW URL. Note: You need to click the \"raw\" button on Github or Gist to obtain the URL to the plugin file. As an example, here is the link which you can share with others: https://imjoy.io/lite?plugin=https://raw.githubusercontent.com/imjoy-team/imjoy-tutorials/master/1-plugin-development/2-itk-vtk-viewer.imjoy.html (Notice that this url starts with `https://raw.githubusercontent.com` which means it's a raw URL).\n",
        "\n",
        "Also see here: https://imjoy.io/docs/#/i2k_tutorial?id=deploy-and-share-your-plugin"
      ]
    },
    {
      "cell_type": "markdown",
      "metadata": {},
      "source": []
    }
  ],
  "metadata": {
    "kernelspec": {
      "display_name": "Pyolite",
      "language": "python",
      "name": "python"
    },
    "language_info": {
      "codemirror_mode": {
        "name": "python",
        "version": 3
      },
      "file_extension": ".py",
      "mimetype": "text/x-python",
      "name": "python",
      "nbconvert_exporter": "python",
      "pygments_lexer": "ipython3",
      "version": "3.8"
    }
  },
  "nbformat": 4,
  "nbformat_minor": 4
}
