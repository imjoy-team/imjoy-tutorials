{
  "metadata": {
    "language_info": {
      "codemirror_mode": {
        "name": "python",
        "version": 3
      },
      "file_extension": ".py",
      "mimetype": "text/x-python",
      "name": "python",
      "nbconvert_exporter": "python",
      "pygments_lexer": "ipython3",
      "version": "3.8"
    },
    "kernelspec": {
      "name": "python",
      "display_name": "Pyolite",
      "language": "python"
    }
  },
  "nbformat_minor": 4,
  "nbformat": 4,
  "cells": [
    {
      "cell_type": "markdown",
      "source": "# Hands on tutorial for ImJoy",
      "metadata": {}
    },
    {
      "cell_type": "markdown",
      "source": "## Your first ImJoy plugin",
      "metadata": {}
    },
    {
      "cell_type": "code",
      "source": "from imjoy import api\n\nclass ImJoyPlugin():\n    async def setup(self):\n        pass\n\n    async def run(self, ctx):\n        pokemon = await api.prompt(\"What is your favorite Pokémon?\", \"Pikachu\")\n        await api.showMessage(\"Your have chose \" + pokemon + \" as your Pokémon.\")\n\napi.export(ImJoyPlugin())",
      "metadata": {
        "trusted": true
      },
      "execution_count": 30,
      "outputs": [
        {
          "output_type": "display_data",
          "data": {
            "text/plain": "<IPython.core.display.Javascript object>",
            "application/javascript": "window.connectPlugin && window.connectPlugin(\"ee5c74c5-6d9c-43f9-8a24-f2a221613372\")"
          },
          "metadata": {}
        },
        {
          "output_type": "display_data",
          "data": {
            "text/plain": "<IPython.core.display.HTML object>",
            "text/html": "<div id=\"59561a08-e05b-4290-ba70-b1d080a1827b\"></div>"
          },
          "metadata": {}
        },
        {
          "execution_count": 30,
          "output_type": "execute_result",
          "data": {
            "text/plain": "<_GatheringFuture pending>"
          },
          "metadata": {}
        }
      ]
    },
    {
      "cell_type": "markdown",
      "source": "## Visualize an Image using Kaibu\n\nKaibu is an ImJoy plugin made for visualizing and anotating images.\n\nKaibu can be used independently (https://kaibu.org) or through its ImJoy applicaiton interface (API)\n\nFull documentation including interactive examples can be found at: https://kaibu.org/docs/\n\nThe following examples shows how to load an image from the human protein atlas (\"https://images.proteinatlas.org/61448/1319_C10_2_blue_red_green.jpg\")\n",
      "metadata": {}
    },
    {
      "cell_type": "code",
      "source": "from imjoy import api\n\nclass ImJoyPlugin():\n    async def setup(self):\n        pass\n\n    async def run(self, ctx):\n        viewer = await api.createWindow(src=\"https://kaibu.org/#/app\")\n        await viewer.view_image(\"https://images.proteinatlas.org/61448/1319_C10_2_blue_red_green.jpg\", name=\"example image\")\n\napi.export(ImJoyPlugin())",
      "metadata": {
        "trusted": true
      },
      "execution_count": 31,
      "outputs": [
        {
          "output_type": "display_data",
          "data": {
            "text/plain": "<IPython.core.display.Javascript object>",
            "application/javascript": "window.connectPlugin && window.connectPlugin(\"ee5c74c5-6d9c-43f9-8a24-f2a221613372\")"
          },
          "metadata": {}
        },
        {
          "output_type": "display_data",
          "data": {
            "text/plain": "<IPython.core.display.HTML object>",
            "text/html": "<div id=\"bf6748cf-3659-4554-af91-a4e0af75e2d0\"></div>"
          },
          "metadata": {}
        },
        {
          "execution_count": 31,
          "output_type": "execute_result",
          "data": {
            "text/plain": "<_GatheringFuture pending>"
          },
          "metadata": {}
        }
      ]
    },
    {
      "cell_type": "markdown",
      "source": "## Visualize an image from your computer\n\nKaibu can also display images in numpy array in Python, therefore you can use the Python module called `imageio` (https://imageio.readthedocs.io/en/stable/) to load a wide range of image formats (including tiff) and display it in Kaibu.\n\n\nImJoy provides its own file manager which stores files in the browser, the file mamager is called \"elFinder\" (https://jupyter.imjoy.io/elFinder). To allow reading files locally, you need to:\n * First \"upload\" your local file to elFinder (Note: Your data won't go to any remote servers but stay inside the browser locally)\n * Then read the file in Python via a dedicated function called `open_elfinder()` (equvalent to `open` in Python).\n\nSee the example below.",
      "metadata": {}
    },
    {
      "cell_type": "code",
      "source": "# We need to first install imageio module\nimport micropip\nawait micropip.install([\"imageio\"])",
      "metadata": {
        "trusted": true
      },
      "execution_count": 32,
      "outputs": []
    },
    {
      "cell_type": "code",
      "source": "from imjoy import api\nimport imageio\nfrom imjoy_rpc.utils import open_elfinder\n\nclass ImJoyPlugin():\n    async def setup(self):\n        pass\n\n    async def run(self, ctx):\n        viewer = await api.createWindow(src=\"https://kaibu.org/#/app\")\n\n        async def form_submit_callback(fields):\n            image_path = fields[\"image file\"]\n            image_file = open_elfinder(image_path, \"rb\")\n            img = imageio.imread(image_file) \n            await viewer.view_image(img)\n        \n        async def select_file_callback():\n            # await api.alert(\"select button clicked\")\n            # return True\n            fm = await api.showDialog(src=\"https://jupyter.imjoy.io/elFinder/\", name=\"Select a File\")\n            selections = await fm.getSelections()\n            return selections[0]['path']\n            \n        await viewer.add_widget({\n            \"_rintf\": True,\n            \"name\": \"My Form\",\n            \"type\": \"form\",\n            \"form_submit_callback\": form_submit_callback,\n            \"fields\": [\n                {\n                    \"html\": \"<p><strong class='has-text-info'>Image Visualization Demo</strong><br>Please select an image file (or download one from <a href='https://images.proteinatlas.org/61448/1319_C10_2_blue_red_green.jpg' target='_blank'>here</a>)</p>\"\n                },\n                {\n                    \"type\": \"button\",\n                    \"label\": \"image file\",\n                    \"callback\": select_file_callback\n                },\n                # {\n                #     \"type\": \"number\",\n                #     \"label\": \"cell size\",\n                #     \"value\": 10,\n                #     \"isRequired\": False\n                # },\n            ],\n        })\napi.export(ImJoyPlugin())",
      "metadata": {
        "trusted": true
      },
      "execution_count": 33,
      "outputs": [
        {
          "output_type": "display_data",
          "data": {
            "text/plain": "<IPython.core.display.Javascript object>",
            "application/javascript": "window.connectPlugin && window.connectPlugin(\"ee5c74c5-6d9c-43f9-8a24-f2a221613372\")"
          },
          "metadata": {}
        },
        {
          "output_type": "display_data",
          "data": {
            "text/plain": "<IPython.core.display.HTML object>",
            "text/html": "<div id=\"cae2ccf3-8ec1-4c41-ac1c-8d8b3b1f07fb\"></div>"
          },
          "metadata": {}
        },
        {
          "execution_count": 33,
          "output_type": "execute_result",
          "data": {
            "text/plain": "<_GatheringFuture pending>"
          },
          "metadata": {}
        }
      ]
    },
    {
      "cell_type": "markdown",
      "source": "## Create cell annotations\n\nKaibu allows also annotate images with a set of different tools, for example, you can use it to create polygon annotations for cells, e.g. for training a deep learning model for cell segmentation.\n\nIn the following example, we use the function `viewer.add_shapes` to create an vector annotation layer in Kaibu, and then use `annotation_layer.get_features()` to obtain the polygons (in GeoJSON format) annotated by the user.\n\nBy using a utility module named `kaibu-utils` to convert GeoJSON annotations into mask images (a.k.a. label image, which is a common format for image segmentation).",
      "metadata": {}
    },
    {
      "cell_type": "code",
      "source": "import micropip\nawait micropip.install([\"kaibu-utils\"])",
      "metadata": {
        "trusted": true
      },
      "execution_count": 19,
      "outputs": []
    },
    {
      "cell_type": "code",
      "source": "from imjoy import api\nimport imageio\nfrom imjoy_rpc.utils import open_elfinder\nfrom kaibu_utils import features_to_mask\n\nimage_masks = []\n\nclass ImJoyPlugin():\n    async def setup(self):\n        pass\n\n    async def run(self, ctx):\n        viewer = await api.createWindow(src=\"https://kaibu.org/#/app\")\n\n        async def form_submit_callback(fields):\n            # image_path = fields[\"image file\"]\n            await api.alert(\"Done!\")\n        \n        async def select_file_callback():\n            fm = await api.showDialog(src=\"https://jupyter.imjoy.io/elFinder/\", name=\"Select a File\")\n            selections = await fm.getSelections()\n            image_path = selections[0]['path']\n            image_file = open_elfinder(image_path, \"rb\")\n            self.img = imageio.imread(image_file) \n            await viewer.view_image(self.img, name=\"Image\")\n            self.annotation_layer = await viewer.add_shapes([], name=\"Annotation\")\n            return image_path\n        \n        async def crate_mask_callback():\n            features = await self.annotation_layer.get_features()\n            mask = features_to_mask(features, self.img.shape[:2])\n            await viewer.view_image(mask, name=\"Mask\")\n            image_masks.append({\"mask\": mask, \"image\": self.img})\n\n        await viewer.add_widget({\n            \"_rintf\": True,\n            \"name\": \"My Form\",\n            \"type\": \"form\",\n            \"form_submit_callback\": form_submit_callback,\n            \"fields\": [\n                {\n                    \"html\": \"<p><strong class='has-text-info'>Image Visualization Demo</strong><br>Please select an image file</p>\"\n                },\n                {\n                    \"type\": \"button\",\n                    \"label\": \"image file\",\n                    \"callback\": select_file_callback\n                },\n                {\n                    \"type\": \"button\",\n                    \"label\": \"create mask\",\n                    \"callback\": crate_mask_callback,\n                    \"isRequired\": False\n                },\n                # {\n                #     \"type\": \"number\",\n                #     \"label\": \"cell size\",\n                #     \"value\": 10,\n                #     \"isRequired\": False\n                # },\n            ],\n        })\napi.export(ImJoyPlugin())",
      "metadata": {
        "trusted": true
      },
      "execution_count": 26,
      "outputs": [
        {
          "output_type": "display_data",
          "data": {
            "text/plain": "<IPython.core.display.Javascript object>",
            "application/javascript": "window.connectPlugin && window.connectPlugin(\"ee5c74c5-6d9c-43f9-8a24-f2a221613372\")"
          },
          "metadata": {}
        },
        {
          "output_type": "display_data",
          "data": {
            "text/plain": "<IPython.core.display.HTML object>",
            "text/html": "<div id=\"098971d9-7551-483b-be3a-5ddfc8cdf69a\"></div>"
          },
          "metadata": {}
        },
        {
          "execution_count": 26,
          "output_type": "execute_result",
          "data": {
            "text/plain": "<_GatheringFuture pending>"
          },
          "metadata": {}
        }
      ]
    },
    {
      "cell_type": "code",
      "source": "image_masks",
      "metadata": {
        "trusted": true
      },
      "execution_count": 29,
      "outputs": [
        {
          "execution_count": 29,
          "output_type": "execute_result",
          "data": {
            "text/plain": "[{'mask': array([[0, 0, 0, ..., 0, 0, 0],\n         [0, 0, 0, ..., 0, 0, 0],\n         [0, 0, 0, ..., 0, 0, 0],\n         ...,\n         [0, 0, 0, ..., 0, 0, 0],\n         [0, 0, 0, ..., 0, 0, 0],\n         [0, 0, 0, ..., 0, 0, 0]], dtype=uint16),\n  'image': Array([[[ 0,  0,  0],\n          [ 0,  0,  0],\n          [ 0,  0,  0],\n          ...,\n          [ 2,  3,  0],\n          [ 2,  3,  0],\n          [ 2,  3,  0]],\n  \n         [[ 0,  0,  0],\n          [ 0,  0,  0],\n          [ 0,  0,  0],\n          ...,\n          [ 2,  3,  0],\n          [ 2,  3,  0],\n          [ 2,  3,  0]],\n  \n         [[ 0,  0,  0],\n          [ 0,  0,  0],\n          [ 0,  0,  0],\n          ...,\n          [ 2,  3,  0],\n          [ 2,  3,  0],\n          [ 2,  3,  0]],\n  \n         ...,\n  \n         [[ 0,  0,  0],\n          [ 0,  0,  0],\n          [ 0,  0,  0],\n          ...,\n          [ 6, 13,  0],\n          [ 0,  7,  0],\n          [ 0,  5,  0]],\n  \n         [[ 0,  0,  0],\n          [ 0,  0,  0],\n          [ 0,  0,  0],\n          ...,\n          [ 9, 13,  0],\n          [ 2,  7,  0],\n          [ 0,  4,  0]],\n  \n         [[ 0,  0,  0],\n          [ 0,  0,  0],\n          [ 0,  0,  0],\n          ...,\n          [10, 13,  0],\n          [ 3,  6,  0],\n          [ 0,  3,  0]]], dtype=uint8)}]"
          },
          "metadata": {}
        }
      ]
    },
    {
      "cell_type": "code",
      "source": "",
      "metadata": {},
      "execution_count": null,
      "outputs": []
    }
  ]
}