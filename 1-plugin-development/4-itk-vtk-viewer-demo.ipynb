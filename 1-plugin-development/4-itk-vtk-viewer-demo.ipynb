{
  "metadata": {
    "orig_nbformat": 4,
    "kernelspec": {
      "display_name": "Pyolite",
      "language": "python",
      "name": "python"
    },
    "language_info": {
      "codemirror_mode": {
        "name": "python",
        "version": 3
      },
      "file_extension": ".py",
      "mimetype": "text/x-python",
      "name": "python",
      "nbconvert_exporter": "python",
      "pygments_lexer": "ipython3",
      "version": "3.8"
    }
  },
  "nbformat_minor": 4,
  "nbformat": 4,
  "cells": [
    {
      "cell_type": "markdown",
      "source": "# ITK/VTK Viewer Demo\n\nThis notebook demonstrate how to use [ITK/VTK viewer](https://kitware.github.io/itk-vtk-viewer/docs/) with the ImJoy JupyterLab Extension, please make sure you have installed `imjoy-jupyterlab-extension`. If you use https://jupyter.imjoy.io it will be installed automatically. You can find an ImJoy icon in the notebook toolbar if the extension is correctly installed.",
      "metadata": {}
    },
    {
      "cell_type": "code",
      "source": "import numpy as np\nfrom imjoy import api\n\nimage_array = np.random.randint(0, 255, [10,10,10], dtype='uint8')\n\nasync def setup():\n    viewer = await api.createWindow(\n        src=\"https://oeway.github.io/itk-vtk-viewer/\"\n    )\n    await viewer.setImage(image_array)\n\napi.export({\"setup\": setup})",
      "metadata": {
        "trusted": true
      },
      "execution_count": 2,
      "outputs": [
        {
          "output_type": "display_data",
          "data": {
            "text/plain": "<IPython.core.display.Javascript object>",
            "application/javascript": "window.connectPlugin && window.connectPlugin(\"4c7894d9-38bd-4712-afa6-d9c87c967645\")"
          },
          "metadata": {}
        },
        {
          "output_type": "display_data",
          "data": {
            "text/plain": "<IPython.core.display.HTML object>",
            "text/html": "<div id=\"a24d1100-3d54-4ce5-9344-e9bd816152b9\"></div>"
          },
          "metadata": {}
        },
        {
          "execution_count": 2,
          "output_type": "execute_result",
          "data": {
            "text/plain": "<Future finished result=[]>"
          },
          "metadata": {}
        }
      ]
    }
  ]
}