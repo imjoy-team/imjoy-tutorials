{
  "metadata": {
    "orig_nbformat": 4,
    "kernelspec": {
      "display_name": "Pyolite",
      "language": "python",
      "name": "python"
    },
    "language_info": {
      "codemirror_mode": {
        "name": "python",
        "version": 3
      },
      "file_extension": ".py",
      "mimetype": "text/x-python",
      "name": "python",
      "nbconvert_exporter": "python",
      "pygments_lexer": "ipython3",
      "version": "3.8"
    }
  },
  "nbformat_minor": 4,
  "nbformat": 4,
  "cells": [
    {
      "cell_type": "markdown",
      "source": "# ImJoy JupyterLab Extension Demo\n\nThis notebook demonstrate how to use [Vizarr viewer](https://github.com/hms-dbmi/vizarr) with the ImJoy JupyterLab Extension, please make sure you have installed `imjoy-jupyterlab-extension`. If you use https://jupyter.imjoy.io it will be installed automatically. You can find an ImJoy icon in the notebook toolbar if the extension is correctly installed.",
      "metadata": {}
    },
    {
      "cell_type": "markdown",
      "source": "# Prepare the ImJoy plugin for zarr visualization",
      "metadata": {}
    },
    {
      "cell_type": "code",
      "source": "import zarr\nfrom imjoy import api\nfrom imjoy_rpc import register_default_codecs\n\nregister_default_codecs()\n\nclass Plugin:\n    def __init__(self, images, view_state=None):\n        if not isinstance(images, list):\n            images = [images]\n        self.images = images\n        self.view_state = view_state\n\n    async def setup(self):\n        pass\n\n    async def run(self, ctx):\n        viewer = await api.createWindow(\n            type=\"vizarr\", src=\"https://hms-dbmi.github.io/vizarr\"\n        )\n        if self.view_state:\n            await viewer.set_view_state(self.view_state)\n        for img in self.images:\n            await viewer.add_image(img)\n\n\ndef run_vizarr(images, view_state=None):\n    api.export(Plugin(images, view_state))\n",
      "metadata": {
        "trusted": true
      },
      "execution_count": 2,
      "outputs": []
    },
    {
      "cell_type": "markdown",
      "source": "# Create an OME Zarr image",
      "metadata": {}
    },
    {
      "cell_type": "code",
      "source": "import zarr\nimport numpy as np\nimport os\nfrom skimage import data\nfrom skimage.transform import pyramid_gaussian\n\n# Modified from https://github.com/ome/ome-zarr-py/blob/master/tests/create_test_data.py\ndef create_ome_zarr(zarr_directory, dtype=\"f4\"):\n\n    base = np.tile(data.astronaut(), (4, 4, 1))\n    gaussian = list(pyramid_gaussian(base, downscale=2, max_layer=3, multichannel=True))\n\n    pyramid = []\n    # convert each level of pyramid into 5D image (t, c, z, y, x)\n    for pixels in gaussian:\n        red = pixels[:, :, 0]\n        green = pixels[:, :, 1]\n        blue = pixels[:, :, 2]\n        # wrap to make 5D: (t, c, z, y, x)\n        pixels = np.array([np.array([red]), np.array([green]), np.array([blue])])\n        pixels = np.array([pixels]).astype(dtype)\n        pyramid.append(pixels)\n\n    store = zarr.DirectoryStore(zarr_directory)\n    grp = zarr.group(store, overwrite=True)\n    paths = []\n    for path, dataset in enumerate(pyramid):\n        grp.create_dataset(str(path), data=pyramid[path])\n        paths.append({\"path\": str(path)})\n\n    image_data = {\n        \"id\": 1,\n        \"channels\": [\n            {\n                \"color\": \"FF0000\",\n                \"window\": {\"start\": 0, \"end\": 1},\n                \"label\": \"Red\",\n                \"active\": True,\n            },\n            {\n                \"color\": \"00FF00\",\n                \"window\": {\"start\": 0, \"end\": 1},\n                \"label\": \"Green\",\n                \"active\": True,\n            },\n            {\n                \"color\": \"0000FF\",\n                \"window\": {\"start\": 0, \"end\": 1},\n                \"label\": \"Blue\",\n                \"active\": True,\n            },\n        ],\n        \"rdefs\": {\n            \"model\": \"color\",\n        },\n    }\n\n    multiscales = [\n        {\n            \"version\": \"0.1\",\n            \"datasets\": paths,\n        }\n    ]\n    grp.attrs[\"multiscales\"] = multiscales\n    grp.attrs[\"omero\"] = image_data\n\n# Save it to /tmp/astronaut.zarr\ncreate_ome_zarr(\"/tmp/astronaut.zarr\")",
      "metadata": {
        "trusted": true
      },
      "execution_count": 3,
      "outputs": [
        {
          "name": "stderr",
          "text": "/lib/python3.9/site-packages/scipy/linalg/special_matrices.py:845: SyntaxWarning: \"is\" with a literal. Did you mean \"==\"?\n  if kind is 'lower':\n/lib/python3.9/site-packages/scipy/linalg/special_matrices.py:847: SyntaxWarning: \"is\" with a literal. Did you mean \"==\"?\n  elif kind is 'upper':\n/lib/python3.9/site-packages/scipy/stats/_binned_statistic.py:469: SyntaxWarning: \"is not\" with a literal. Did you mean \"!=\"?\n  if(statistic is not 'count' and Vlen != Dlen):\n",
          "output_type": "stream"
        }
      ]
    },
    {
      "cell_type": "markdown",
      "source": "# Load the OME Zarr image",
      "metadata": {}
    },
    {
      "cell_type": "code",
      "source": "import zarr\n\nmultiscale_astronaut = zarr.open(\"/tmp/astronaut.zarr\", mode=\"r\") # open the zarr created above in jupyter kernel",
      "metadata": {
        "trusted": true
      },
      "execution_count": 4,
      "outputs": []
    },
    {
      "cell_type": "markdown",
      "source": "# Display the zarr image with vizarr",
      "metadata": {}
    },
    {
      "cell_type": "code",
      "source": "# Create Zarr \nastronaut_img = { \"source\": multiscale_astronaut, \"name\": \"astronaut\" }\n\n# Run vizarr\nrun_vizarr(astronaut_img)",
      "metadata": {
        "trusted": true
      },
      "execution_count": 5,
      "outputs": [
        {
          "output_type": "display_data",
          "data": {
            "text/plain": "<IPython.core.display.Javascript object>",
            "application/javascript": "window.connectPlugin && window.connectPlugin(\"137ce9c0-10a6-411a-a78f-8f50c2389bbc\")"
          },
          "metadata": {}
        },
        {
          "output_type": "display_data",
          "data": {
            "text/plain": "<IPython.core.display.HTML object>",
            "text/html": "<div id=\"0ef37f09-cfda-45b5-ae20-a363569487dc\"></div>"
          },
          "metadata": {}
        }
      ]
    },
    {
      "cell_type": "code",
      "source": "",
      "metadata": {},
      "execution_count": null,
      "outputs": []
    }
  ]
}